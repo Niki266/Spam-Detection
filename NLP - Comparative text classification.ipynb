{
 "cells": [
  {
   "cell_type": "markdown",
   "id": "1d982898",
   "metadata": {},
   "source": [
    "<center><h2>Comparative Text Classification Using Statistical And Embedding-based models for SMS Spam Detection </h2></center>"
   ]
  },
  {
   "cell_type": "markdown",
   "id": "0005da84",
   "metadata": {},
   "source": [
    "### Table of contents -\n",
    "* [1. Introduction](#Introduction)\n",
    "   * [1.1 Domain-specific area](#Domain)\n",
    "   * [1.2 Objectives](#Objectives)\n",
    "   * [1.3 Dataset Description](#Desc)\n",
    "   * [1.4 Evaluation methodology](#EvaMethod)\n",
    "* [2. Implementation](#Implementation)\n",
    "   * [2.1 Data Preprocessing](#Preprocessing)\n",
    "   * [2.2 Baseline Performance](#Baseline)\n",
    "   * [2.3 Comparative Classification methodology](#Comparative)\n",
    "     * [2.3.1 Statistical Model](#stat)\n",
    "     * [2.3.2 Modern deep learning model](#deep)\n",
    "* [3. Conclusions](#con) \n",
    "   * [3.1 Performance Analysis & Comparative Discussion](#Analysis)\n",
    "   * [3.2 Project Summary and Reflections](#Summary)\n",
    "* [4. References](#refer)   \n",
    "   "
   ]
  },
  {
   "cell_type": "markdown",
   "id": "7e7f4e2d",
   "metadata": {},
   "source": [
    "### <U>1. Introduction</U> <a class=\"anchor\" id=\"Introduction\"></a>"
   ]
  },
  {
   "cell_type": "markdown",
   "id": "d3b16cab",
   "metadata": {},
   "source": [
    "### <U>1.1 Domain-specific area</U> <a class=\"anchor\" id=\"Domain\"></a>\n",
    "\n",
    "Spam detection in text messages is a critical challenge within the domain of natural language processing (NLP). The rapid growth of mobile communication has led to an influx of unwanted and potentially harmful spam messages, which range from harmless advertisements to dangerous phishing attacks and malware dissemination. This problem affects millions of users daily, posing significant risks such as financial fraud, identity theft, and privacy violations.\n",
    "\n",
    "Effective spam detection is crucial in mitigating these risks and improving user experience by filtering out unwanted messages. In the industry, text classification methods have been extensively used to address this challenge. Traditional statistical models, like Naive Bayes, have been popular due to their simplicity and robustness in handling large vocabularies, as demonstrated in the studies by Almeida et al. (2011) and Gómez Hidalgo et al. (2006). These models offer reliable performance in various spam detection scenarios, making them a staple in early spam filtering systems.\n",
    "\n",
    "However, with the advent of more sophisticated spam tactics, there is a growing need for advanced methods that can capture complex patterns in text data. This is where modern deep learning techniques come into play. Deep learning models, especially those utilizing word embeddings and recurrent neural networks (RNNs), have shown significant promise in understanding and classifying textual data. Research by Kim (2014) on convolutional neural networks (CNNs) and by Zhang et al. (2015) on RNNs highlights their effectiveness in text classification tasks, including spam detection. These models can learn intricate relationships within the data, making them more adaptable to evolving spam strategies.\n",
    "\n",
    "Combining NLP with cybersecurity techniques can enhance spam detection capabilities, providing a more holistic approach to combating spam. For instance, integrating behavioral analysis and network security insights with traditional NLP methods can offer a more robust defense against sophisticated spamming tactics.\n",
    "\n",
    "While developing advanced spam detection systems, it is essential to consider the ethical implications and societal impacts. Privacy concerns arise when analyzing personal messages to detect spam, necessitating a balance between effective filtering and user privacy. Moreover, ensuring that spam detection algorithms do not unfairly target certain groups or individuals is crucial for maintaining fairness and transparency.\n",
    "\n",
    "This project aims to expand upon this body of research by comparing the performance of traditional statistical models and modern deep learning techniques in the context of SMS spam detection. By situating our work within existing literature, we aim to provide a comprehensive evaluation of these approaches and their applicability to real-world spam detection challenges."
   ]
  },
  {
   "cell_type": "markdown",
   "id": "934912e4",
   "metadata": {},
   "source": [
    "### <U>1.2 Objectives</U> <a class=\"anchor\" id=\"Objectives\"></a>\n",
    "\n",
    "The primary objective of this project is to conduct a comprehensive comparative analysis of a traditional statistical model (TF-IDF + Naive Bayes) and a modern deep learning model (Word2Vec + LSTM) for SMS spam detection. The specific goals are as follows:\n",
    "\n",
    "<b>Evaluate Model Performance</b>: Assess the accuracy, precision, recall, and F1-score of both TF-IDF + Naive Bayes and Word2Vec + LSTM models. This evaluation will determine the effectiveness of each approach in correctly classifying spam and ham messages.\n",
    "\n",
    "- <b>Goals</b>: Understand the strengths and weaknesses of each model in terms of their predictive performance. By using these metrics, the study will provide a nuanced understanding of each model's strengths and weaknesses, highlighting scenarios where one model may outperform the other.\n",
    "\n",
    "- <b>Contribution</b>: Provide detailed performance benchmarks that can guide researchers and practitioners in choosing the right model for SMS spam detection. This analysis will help in understanding how well these models can generalize to new, unseen data, supported by literature such as Almeida et al. (2011) and Zhang et al. (2015).\n",
    "\n",
    "<b>Analyze Computational Efficiency</b>: Compare the computational efficiency of the two models in terms of training time, memory usage, and inference speed.\n",
    "\n",
    "- <b>Goals</b>: Determine the practicality of deploying these models in real-world applications with varying computational resources. The project will measure and report the resources required for training and deploying both models, emphasizing their scalability and suitability for deployment in resource-constrained environments.\n",
    "\n",
    "- <b>Contribution</b>: Offer insights into the resource requirements of each model, helping practitioners select models that fit their computational constraints. The analysis will be grounded in existing research on model efficiency (Kim, 2014). Understanding the computational demands of each model will aid in making informed decisions about their deployment in various settings, particularly in mobile and embedded systems where resources are limited.\n",
    "\n",
    "<b>Explore Model Interpretability</b>: Investigate the interpretability of both models by examining how each model makes its predictions.\n",
    "\n",
    "- <b>Goals</b>: Enhance the transparency of spam detection models, making it easier to understand and trust their decisions. The study will delve into the decision-making processes of both the TF-IDF + Naive Bayes and Word2Vec + LSTM models, aiming to uncover the rationale behind their predictions and identifying any potential biases.\n",
    "\n",
    "- <b>Contribution</b>: By understanding the decision-making processes of the models, this project will provide guidelines for developing more interpretable models, thus addressing concerns about model fairness and bias as discussed in Gómez Hidalgo et al. (2006). Enhancing the interpretability of spam detection models will build trust among users and stakeholders, ensuring that the models are not only effective but also transparent and fair.\n",
    "\n",
    "By situating the findings within the context of existing literature, the study will contribute to the broader field of text classification, offering guidance on model selection and application in real-world scenarios. The insights gained from this study will help researchers and practitioners make informed decisions when selecting and deploying spam detection models, ensuring they are effective, efficient, and trustworthy."
   ]
  },
  {
   "cell_type": "markdown",
   "id": "2d70ec85",
   "metadata": {},
   "source": [
    "### <U>1.3 Dataset Description</U> <a class=\"anchor\" id=\"Desc\"></a>\n",
    "\n",
    "The dataset used in this project is the \"SMS Spam Collection Dataset,\". It can be found on kaggle and UC Irvine (UCI) Machine Learning Repository. It consists of 5,574 SMS messages, categorized into 'spam' and 'ham' (non-spam). The files contain one message per line. Each line is composed by two columns: v1 contains the label (ham or spam) and v2 contains the raw text. \n",
    "\n",
    "The aquisition method of this dataset is a collection of messages from various sources, including personal SMS collections, public datasets, and research publications. \n",
    "\n",
    "- A collection of 425 SMS spam messages was manually extracted from the Grumbletext Web site.\n",
    "\n",
    "- A subset of 3,375 SMS randomly chosen ham messages of the NUS SMS Corpus (NSC), which is a dataset of about 10,000 legitimate messages collected for research at the Department of Computer Science at the National University of Singapore. \n",
    "\n",
    "- A list of 450 SMS ham messages collected from Caroline Tag's PhD Thesis\n",
    "\n",
    "- The SMS Spam Corpus v.0.1 Big. It has 1,002 SMS ham messages and 322 spam messages\n",
    "\n",
    "Size:\n",
    "- Total messages: 5,574\n",
    "- Spam messages: 747 (approximately 13.4%)\n",
    "- Ham messages: 4,827 (approximately 86.6%)\n",
    "\n",
    "The dataset is moderately sized for a text classification task. While it is not extremely large compared to some datasets used in deep learning, it is sufficient to train and evaluate both traditional statistical models and modern deep learning models. The diversity and variety in the dataset make it a valuable resource for developing spam detection models.\n",
    "\n",
    "The dataset is imbalanced, with a significantly higher number of 'ham' messages compared to 'spam' messages. This imbalance reflects real-world conditions, where spam messages are typically much less frequent than legitimate messages. This presents a realistic challenge for classification algorithms, making it an excellent choice for developing and testing both traditional statistical models and modern deep learning approaches. \n",
    "\n",
    "Structure:\n",
    "The dataset is provided as a single CSV file with the columns:\n",
    "\n",
    "- label: Indicates whether the message is spam or ham.\n",
    "- message: The content of the SMS message.\n",
    "\n",
    "Data Types:\n",
    "- label: Categorical (spam/ham)\n",
    "- message: Textual data (string)\n",
    "\n",
    "The messages are provided in plain text format, making them suitable for preprocessing and model training. The dataset's size and structure make it a good candidate for training and evaluating the performance of different text classification models. The collection of this type of dataset is critical for the NLP process because it provides real-world examples of the problem being addressed. A well-collected dataset ensures that the model can learn the nuances and patterns associated with spam and ham messages, leading to better generalization and performance in real-world applications.\n",
    "\n",
    "Dataset links:\n",
    "\n",
    "Kaggle - https://www.kaggle.com/datasets/uciml/sms-spam-collection-dataset\n",
    "\n",
    "UCI - https://archive.ics.uci.edu/dataset/228/sms+spam+collection"
   ]
  },
  {
   "cell_type": "code",
   "execution_count": 171,
   "id": "fb6547d4",
   "metadata": {},
   "outputs": [],
   "source": [
    "import pandas as pd\n",
    "import numpy as np\n",
    "import matplotlib.pyplot as plt\n",
    "import seaborn as sns\n",
    "import re\n",
    "from sklearn.model_selection import train_test_split\n",
    "from sklearn.feature_extraction.text import CountVectorizer, TfidfVectorizer\n",
    "from sklearn.dummy import DummyClassifier\n",
    "from sklearn.naive_bayes import MultinomialNB\n",
    "from sklearn.linear_model import LogisticRegression\n",
    "from sklearn.neighbors import KNeighborsClassifier\n",
    "from sklearn.metrics import accuracy_score, precision_score, recall_score, f1_score\n",
    "from sklearn.metrics import precision_score, recall_score, f1_score\n",
    "from keras.preprocessing.text import Tokenizer\n",
    "from tensorflow.keras.preprocessing.sequence import pad_sequences\n",
    "from gensim.models import Word2Vec\n",
    "from keras.models import Sequential\n",
    "from keras.layers import Embedding, LSTM, Dense\n",
    "from sklearn.preprocessing import LabelEncoder\n",
    "from IPython.display import display, Math, Latex"
   ]
  },
  {
   "cell_type": "code",
   "execution_count": 132,
   "id": "8b122bfa",
   "metadata": {},
   "outputs": [
    {
     "name": "stdout",
     "output_type": "stream",
     "text": [
      "  label                                            message  label_encoded\n",
      "0   ham  Go until jurong point, crazy.. Available only ...              0\n",
      "1   ham                      Ok lar... Joking wif u oni...              0\n",
      "2  spam  Free entry in 2 a wkly comp to win FA Cup fina...              1\n",
      "3   ham  U dun say so early hor... U c already then say...              0\n",
      "4   ham  Nah I don't think he goes to usf, he lives aro...              0\n"
     ]
    }
   ],
   "source": [
    "# Read the CSV file with the correct encoding\n",
    "SMS_Data = pd.read_csv('spam.csv', encoding='latin1')\n",
    "\n",
    "# Drop unnecessary columns\n",
    "SMS_Data = SMS_Data.drop(columns=['Unnamed: 2', 'Unnamed: 3', 'Unnamed: 4'])\n",
    "\n",
    "# Rename the columns for clarity\n",
    "SMS_Data.columns = ['label', 'message']\n",
    "\n",
    "# Encode labels\n",
    "label_encoder = LabelEncoder()\n",
    "SMS_Data['label_encoded'] = label_encoder.fit_transform(SMS_Data['label'])\n",
    "\n",
    "print(SMS_Data.head())"
   ]
  },
  {
   "cell_type": "code",
   "execution_count": 130,
   "id": "02e7f1a1",
   "metadata": {},
   "outputs": [
    {
     "name": "stdout",
     "output_type": "stream",
     "text": [
      "ham     4825\n",
      "spam     747\n",
      "Name: label, dtype: int64\n"
     ]
    }
   ],
   "source": [
    "# Check the distribution of labels\n",
    "label_distribution = SMS_Data['label'].value_counts()\n",
    "print(label_distribution)"
   ]
  },
  {
   "cell_type": "markdown",
   "id": "5004a801",
   "metadata": {},
   "source": [
    "### <U>1.4 Evaluation methodology</U> <a class=\"anchor\" id=\"EvaMethod\"></a>\n",
    "\n",
    "<b>Evaluation Metrics:</b>\n",
    "\n",
    "<b>Accuracy</b>: To get a more meaningful accuracy, we should balance our imbalanced dataset, which we plan to do by using RandomOverSampler. This is because accuracy measures the proportion of correct predictions out of all predictions, which in an imbalanced dataset would have been disproportionately high if the model simply predicts the majority class. For example, if 90% of the messages are 'ham' and the model always predicts 'ham', the accuracy would be 90%, despite the model failing to identify any 'spam' messages. By balancing the dataset, accuracy becomes a more reliable metric, providing a straightforward indicator of overall performance."
   ]
  },
  {
   "cell_type": "code",
   "execution_count": 181,
   "id": "9fe60ff5",
   "metadata": {},
   "outputs": [
    {
     "data": {
      "text/latex": [
       "$\\displaystyle \\text{Accuracy} = \\frac{\\text{True Positives} + \\text{True Negatives}}{\\text{Total Predictions}}$"
      ],
      "text/plain": [
       "<IPython.core.display.Math object>"
      ]
     },
     "metadata": {},
     "output_type": "display_data"
    }
   ],
   "source": [
    "display(Math(r'\\text{Accuracy} = \\frac{\\text{True Positives} + \\text{True Negatives}}{\\text{Total Predictions}}'))"
   ]
  },
  {
   "cell_type": "markdown",
   "id": "309bc111",
   "metadata": {},
   "source": [
    "<b>Precision</b>: Precision is the ratio of true positive predictions to the total number of positive predictions (true positives + false positives). It answers the question: \"Of all the messages predicted as spam, how many were actually spam?\" Precision is particularly important in scenarios where the cost of false positives is high."
   ]
  },
  {
   "cell_type": "code",
   "execution_count": 137,
   "id": "c021a802",
   "metadata": {
    "scrolled": true
   },
   "outputs": [
    {
     "data": {
      "text/latex": [
       "$\\displaystyle \\text{Precision} = \\frac{\\text{True Positives}}{\\text{True Positives} + \\text{False Positives}}$"
      ],
      "text/plain": [
       "<IPython.core.display.Math object>"
      ]
     },
     "metadata": {},
     "output_type": "display_data"
    }
   ],
   "source": [
    "display(Math(r'\\text{Precision} = \\frac{\\text{True Positives}}{\\text{True Positives} + \\text{False Positives}}'))"
   ]
  },
  {
   "cell_type": "markdown",
   "id": "b29bc082",
   "metadata": {},
   "source": [
    "<b>Recall (Sensitivity or True Positive Rate)</b>: Recall is the ratio of true positive predictions to the total number of actual positives (true positives + false negatives). It answers the question: \"Of all the actual spam messages, how many were correctly identified?\" Recall is crucial in scenarios where missing a true positive (false negative) has a significant cost."
   ]
  },
  {
   "cell_type": "code",
   "execution_count": 138,
   "id": "9be64e46",
   "metadata": {},
   "outputs": [
    {
     "data": {
      "text/latex": [
       "$\\displaystyle \\text{Recall} = \\frac{\\text{True Positives}}{\\text{True Positives} + \\text{False Negatives}}$"
      ],
      "text/plain": [
       "<IPython.core.display.Math object>"
      ]
     },
     "metadata": {},
     "output_type": "display_data"
    }
   ],
   "source": [
    "display(Math(r'\\text{Recall} = \\frac{\\text{True Positives}}{\\text{True Positives} + \\text{False Negatives}}'))"
   ]
  },
  {
   "cell_type": "markdown",
   "id": "2a71beeb",
   "metadata": {},
   "source": [
    "<b>F1-Score</b>: The F1-Score is the harmonic mean of precision and recall. It provides a single metric that balances both precision and recall, making it useful for situations where we need to balance the trade-off between precision and recall."
   ]
  },
  {
   "cell_type": "code",
   "execution_count": 139,
   "id": "b0be236d",
   "metadata": {},
   "outputs": [
    {
     "data": {
      "text/latex": [
       "$\\displaystyle \\text{F1-Score} = 2 \\times \\frac{\\text{Precision} \\times \\text{Recall}}{\\text{Precision} + \\text{Recall}}$"
      ],
      "text/plain": [
       "<IPython.core.display.Math object>"
      ]
     },
     "metadata": {},
     "output_type": "display_data"
    }
   ],
   "source": [
    "display(Math(r'\\text{F1-Score} = 2 \\times \\frac{\\text{Precision} \\times \\text{Recall}}{\\text{Precision} + \\text{Recall}}'))"
   ]
  },
  {
   "cell_type": "markdown",
   "id": "8738c13a",
   "metadata": {},
   "source": [
    "<b>Confusion Matrix</b>: The confusion matrix provides a comprehensive breakdown of the model's predictions, showing the number of true positives, true negatives, false positives, and false negatives. It helps in understanding the types of errors the model is making.\n",
    "\n",
    " - True Positives (TP): Correctly predicted spam messages.\n",
    " - True Negatives (TN): Correctly predicted ham messages.\n",
    " - False Positives (FP): Incorrectly predicted spam messages (actually ham).\n",
    " - False Negatives (FN): Incorrectly predicted ham messages (actually spam).\n",
    " \n",
    "Applying These Metrics:\n",
    "For both statistical (TF-IDF + Naive Bayes) and modern deep learning models (Word2Vec + LSTM), these metrics will comprehensively evaluate performance:\n",
    "\n",
    "1. Accuracy: Offers a clear metric of overall performance, now more reliable with a balanced dataset.\n",
    "\n",
    "2. Precision: Measures the proportion of predicted spam messages that are actually spam, highlighting the model's ability to avoid false positives.\n",
    "\n",
    "3. Recall: Measures the model's ability to identify all spam messages, emphasizing the detection rate of true positives.\n",
    "\n",
    "4. F1-Score: Combines precision and recall into a single metric for balanced model comparison.\n",
    "\n",
    "5. Confusion Matrix: Provides a detailed view of prediction performance, showing correctly and incorrectly classified spam and ham messages.\n",
    "\n",
    "Using these metrics allows for a balanced comparison of statistical and modern deep learning models, revealing their strengths and weaknesses in handling the dataset. For example, a model with high recall but lower precision might be useful for catching all spam messages, while a model with high precision but lower recall might be preferred for minimising false positives."
   ]
  },
  {
   "cell_type": "markdown",
   "id": "2fb45e19",
   "metadata": {},
   "source": [
    "### <U>2. Implementation</U> <a class=\"anchor\" id=\"Implementation\"></a>"
   ]
  },
  {
   "cell_type": "markdown",
   "id": "0d8aa447",
   "metadata": {},
   "source": [
    "### <U>2.1 Data Preprocessing</U> <a class=\"anchor\" id=\"Preprocessing\"></a>"
   ]
  },
  {
   "cell_type": "code",
   "execution_count": 177,
   "id": "bb9912e5",
   "metadata": {},
   "outputs": [],
   "source": [
    "# Preprocessing for CountVectorizer + Logistic regression (Baseline), \n",
    "count_vectorizer = CountVectorizer(stop_words='english')\n",
    "X_count = count_vectorizer.fit_transform(SMS_Data['message'])\n",
    "\n",
    "# Preprocessing for TF-IDF + Naive Bayes\n",
    "tfidf_vectorizer = TfidfVectorizer(stop_words='english', max_df=0.95, min_df=2)\n",
    "X_tfidf = tfidf_vectorizer.fit_transform(SMS_Data['message'])\n",
    "\n",
    "# Preprocessing for Word2Vec + LSTM\n",
    "tokenizer = Tokenizer()\n",
    "tokenizer.fit_on_texts(SMS_Data['message'])\n",
    "sequences = tokenizer.texts_to_sequences(SMS_Data['message'])\n",
    "max_sequence_length = max(len(seq) for seq in sequences)\n",
    "X_lstm = pad_sequences(sequences, maxlen=max_sequence_length)\n",
    "\n",
    "# Labels\n",
    "y = SMS_Data['label_encoded']\n",
    "\n",
    "# Split the data into training and testing sets\n",
    "X_train_count, X_test_count, y_train, y_test = train_test_split(X_count, y, test_size=0.2, random_state=42)\n",
    "X_train_tfidf, X_test_tfidf, _, _ = train_test_split(X_tfidf, y, test_size=0.2, random_state=42)\n",
    "X_train_lstm, X_test_lstm, _, _ = train_test_split(X_lstm, y, test_size=0.2, random_state=42)\n",
    "\n",
    "# Balance the training data using RandomOverSampler to address the issue of class imbalance\n",
    "ros = RandomOverSampler(random_state=42)\n",
    "X_train_count_res, y_train_count_res = ros.fit_resample(X_train_count, y_train)\n",
    "X_train_tfidf_res, y_train_tfidf_res = ros.fit_resample(X_train_tfidf, y_train)\n",
    "X_train_lstm_res, y_train_lstm_res = ros.fit_resample(X_train_lstm, y_train)"
   ]
  },
  {
   "cell_type": "markdown",
   "id": "b5c8384a",
   "metadata": {},
   "source": [
    "Why These Steps Were Needed:\n",
    "\n",
    "- Tokenization: Essential for breaking down the text into manageable pieces that can be fed into models.\n",
    "- CountVectorizer and TF-IDF Vectorizer: Suitable for statistical models as they convert text into numerical features that these models can work with. TF-IDF further refines this by weighing terms based on their importance, which improves model performance.\n",
    "- Word2Vec Embeddings: Provides a richer representation of words by capturing their semantic relationships, which is necessary for deep learning models to understand and process text effectively.\n",
    "\n",
    "Differences in Data Preparation:\n",
    "\n",
    "Statistical Models (CountVectorizer, TF-IDF):\n",
    "- Focus on converting text into frequency-based numerical features.\n",
    "- Suitable for models that require simple and interpretable representations of text.\n",
    "\n",
    "Embedding Models (Word2Vec):\n",
    "- Generate dense vector representations that capture complex semantic relationships.\n",
    "- Necessary for models like LSTM that benefit from understanding the context and meaning of words.\n",
    "\n",
    "Appropriate Preprocessing Steps Undertaken:\n",
    "\n",
    "- CountVectorizer and TF-IDF: Both vectorizers were applied to transform the text data into numerical features, ensuring that the statistical models have the necessary input format.\n",
    "- Word2Vec: Trained on the text data to create word embeddings, followed by the construction of an embedding matrix for the LSTM model.\n",
    "- Balancing the Dataset: RandomOverSampler was used to address class imbalance, making the evaluation metrics reliable and unbiased.\n",
    "\n",
    "Rationale:\n",
    "\n",
    "The preprocessing steps were carefully chosen to suit the needs of both statistical and deep learning models. Tokenization, vectorization, and embedding generation are fundamental to converting text data into formats that these models can understand and process. Balancing the dataset further ensures that the models are evaluated fairly and accurately.\n"
   ]
  },
  {
   "cell_type": "markdown",
   "id": "4420f958",
   "metadata": {},
   "source": [
    "### <U>2.2 Baseline Performance</U> <a class=\"anchor\" id=\"Baseline\"></a>"
   ]
  },
  {
   "cell_type": "code",
   "execution_count": 179,
   "id": "23b410f1",
   "metadata": {},
   "outputs": [
    {
     "name": "stdout",
     "output_type": "stream",
     "text": [
      "CountVectorizer + Logistic Regression Accuracy: 0.9820627802690582\n",
      "CountVectorizer + Logistic Regression Confusion Matrix:\n",
      "[[963   2]\n",
      " [ 18 132]]\n",
      "CountVectorizer + Logistic Regression Classification Report:\n",
      "              precision    recall  f1-score   support\n",
      "\n",
      "         ham       0.98      1.00      0.99       965\n",
      "        spam       0.99      0.88      0.93       150\n",
      "\n",
      "    accuracy                           0.98      1115\n",
      "   macro avg       0.98      0.94      0.96      1115\n",
      "weighted avg       0.98      0.98      0.98      1115\n",
      "\n"
     ]
    },
    {
     "data": {
      "image/png": "[encoded data removed]",
      "text/plain": [
       "<Figure size 720x504 with 2 Axes>"
      ]
     },
     "metadata": {},
     "output_type": "display_data"
    }
   ],
   "source": [
    "# Train Logistic Regression model with CountVectorizer\n",
    "logistic_regression_model = LogisticRegression(max_iter=1000)\n",
    "logistic_regression_model.fit(X_train_count_res, y_train_count_res)\n",
    "\n",
    "# Make predictions and evaluate Logistic Regression model\n",
    "y_pred_count = logistic_regression_model.predict(X_test_count)\n",
    "accuracy_count = accuracy_score(y_test, y_pred_count)\n",
    "conf_matrix_count = confusion_matrix(y_test, y_pred_count)\n",
    "class_report_count = classification_report(y_test, y_pred_count, target_names=label_encoder.classes_)\n",
    "\n",
    "print(f'CountVectorizer + Logistic Regression Accuracy: {accuracy_count}')\n",
    "print('CountVectorizer + Logistic Regression Confusion Matrix:')\n",
    "print(conf_matrix_count)\n",
    "print('CountVectorizer + Logistic Regression Classification Report:')\n",
    "print(class_report_count)\n",
    "\n",
    "# Plot the confusion matrix for Logistic Regression\n",
    "plt.figure(figsize=(10, 7))\n",
    "sns.heatmap(conf_matrix_count, annot=True, fmt='d', cmap='Blues', xticklabels=label_encoder.classes_, yticklabels=label_encoder.classes_)\n",
    "plt.xlabel('Predicted Label')\n",
    "plt.ylabel('True Label')\n",
    "plt.title('CountVectorizer + Logistic Regression Confusion Matrix')\n",
    "plt.show()"
   ]
  },
  {
   "cell_type": "markdown",
   "id": "8749c089",
   "metadata": {},
   "source": [
    "The chosen baseline model for this project is the Logistic Regression model with CountVectorizer. This combination was selected due to its widespread use in text classification tasks and its effectiveness as a simple yet powerful model.\n",
    "\n",
    "Rationale:\n",
    "\n",
    "Simplicity and Efficiency: Logistic Regression is a straightforward and efficient algorithm that works well with CountVectorizer features, which represent text data as a matrix of token counts.\n",
    "\n",
    "Benchmark in Literature: Logistic Regression with CountVectorizer has been extensively used and validated in various text classification studies, providing a solid baseline for comparison.\n",
    "Implementation:\n",
    "\n",
    "Count Vectorization:\n",
    "\n",
    "- Applied the CountVectorizer to the text data to convert it into a matrix of token counts. This step captures the frequency of each term in the document corpus, which helps the model identify important words.\n",
    "\n",
    "- The use of CountVectorizer ensures that the model focuses on the occurrence of terms, making it suitable for text classification tasks like spam detection.\n",
    "\n",
    "Logistic Regression Classifier:\n",
    "\n",
    "Trained the Logistic Regression classifier on the CountVectorizer features. This model predicts the probability of a message being spam or ham based on the linear combination of the input features.\n",
    "\n",
    "Model Training and Evaluation:\n",
    "\n",
    "- Training: The Logistic Regression classifier was trained on the balanced training data, learning to distinguish between 'spam' and 'ham' messages based on the CountVectorizer features.\n",
    "\n",
    "- Evaluation: The model was evaluated on the test set using accuracy, precision, recall, and F1-score. These metrics provide a comprehensive view of the model's performance, highlighting its strengths and weaknesses in classifying SMS messages.\n",
    "\n",
    "Preliminary Comparison with Advanced Models:\n",
    "\n",
    "- The CountVectorizer + Logistic Regression model serves as a strong baseline, providing a benchmark against which the performance of the more complex Word2Vec + LSTM model can be measured.\n",
    "\n",
    "- Despite the higher complexity and potential of the LSTM model to capture intricate patterns, the Logistic Regression model demonstrates competitive performance, particularly in the context of smaller datasets.\n",
    "\n",
    "The CountVectorizer + Logistic Regression model is an appropriately chosen baseline due to its simplicity, efficiency, and proven performance in the literature. The balanced evaluation metrics highlight its effectiveness and provide a meaningful benchmark for comparing advanced models like Word2Vec + LSTM."
   ]
  },
  {
   "cell_type": "markdown",
   "id": "0c9b1fd1",
   "metadata": {},
   "source": [
    "### <U>2.3 Comparative Classification methodology</U> <a class=\"anchor\" id=\"Comparative\"></a>"
   ]
  },
  {
   "cell_type": "markdown",
   "id": "4511a424",
   "metadata": {},
   "source": [
    "### <u><b>2.3.1 Statistical Model</b></u><a class=\"anchor\" id=\"stat\"></a>"
   ]
  },
  {
   "cell_type": "code",
   "execution_count": 166,
   "id": "bbb91f6d",
   "metadata": {},
   "outputs": [
    {
     "name": "stdout",
     "output_type": "stream",
     "text": [
      "TF-IDF + Naive Bayes Accuracy: 0.967713004484305\n",
      "TF-IDF + Naive Bayes Confusion Matrix:\n",
      "[[940  25]\n",
      " [ 11 139]]\n",
      "TF-IDF + Naive Bayes Classification Report:\n",
      "              precision    recall  f1-score   support\n",
      "\n",
      "         ham       0.99      0.97      0.98       965\n",
      "        spam       0.85      0.93      0.89       150\n",
      "\n",
      "    accuracy                           0.97      1115\n",
      "   macro avg       0.92      0.95      0.93      1115\n",
      "weighted avg       0.97      0.97      0.97      1115\n",
      "\n"
     ]
    },
    {
     "data": {
      "image/png": "[encoded data removed]",
      "text/plain": [
       "<Figure size 720x504 with 2 Axes>"
      ]
     },
     "metadata": {},
     "output_type": "display_data"
    }
   ],
   "source": [
    "# Train Naive Bayes model with TF-IDF\n",
    "tfidf_naive_bayes_model = MultinomialNB()\n",
    "tfidf_naive_bayes_model.fit(X_train_tfidf_res, y_train_tfidf_res)\n",
    "\n",
    "# Make predictions and evaluate TF-IDF + Naive Bayes model\n",
    "y_pred_tfidf = tfidf_naive_bayes_model.predict(X_test_tfidf)\n",
    "accuracy_tfidf = accuracy_score(y_test, y_pred_tfidf)\n",
    "conf_matrix_tfidf = confusion_matrix(y_test, y_pred_tfidf)\n",
    "class_report_tfidf = classification_report(y_test, y_pred_tfidf, target_names=label_encoder.classes_)\n",
    "\n",
    "print(f'TF-IDF + Naive Bayes Accuracy: {accuracy_tfidf}')\n",
    "print('TF-IDF + Naive Bayes Confusion Matrix:')\n",
    "print(conf_matrix_tfidf)\n",
    "print('TF-IDF + Naive Bayes Classification Report:')\n",
    "print(class_report_tfidf)\n",
    "\n",
    "# Plot the confusion matrix for TF-IDF + Naive Bayes\n",
    "plt.figure(figsize=(10, 7))\n",
    "sns.heatmap(conf_matrix_tfidf, annot=True, fmt='d', cmap='Blues', xticklabels=label_encoder.classes_, yticklabels=label_encoder.classes_)\n",
    "plt.xlabel('Predicted Label')\n",
    "plt.ylabel('True Label')\n",
    "plt.title('TF-IDF + Naive Bayes Confusion Matrix')\n",
    "plt.show()"
   ]
  },
  {
   "cell_type": "markdown",
   "id": "bf1298e2",
   "metadata": {},
   "source": [
    "TF-IDF Vectorization:\n",
    "\n",
    "**Strengths:**\n",
    "\n",
    "- Applied the TfidfVectorizer to the text data to convert it into a matrix of TF-IDF features. This step captures the importance of each term relative to the document corpus, making it suitable for distinguishing between spam and ham messages.\n",
    "\n",
    "- The use of TF-IDF ensures that the model focuses on the most informative terms, reducing the impact of common but less significant words.\n",
    "\n",
    "**Weaknesses:**\n",
    "\n",
    "- May not capture the context and semantics of terms.\n",
    "\n",
    "Naive Bayes Classifier:\n",
    "\n",
    "**Strengths:**\n",
    "\n",
    "- Trained the Multinomial Naive Bayes classifier on the TF-IDF features. This model predicts the probability of a message being spam or ham based on the occurrence and frequency of terms.\n",
    "\n",
    "- Naive Bayes is particularly effective for text classification tasks due to its simplicity and ability to handle high-dimensional data.\n",
    "\n",
    "**Weaknesses:**\n",
    "\n",
    "- Assumes independence between features, which may not hold true in practice.\n",
    "\n",
    "Model Training and Evaluation:\n",
    "\n",
    "- Training: The Naive Bayes classifier was trained on the balanced training data, learning to distinguish between 'spam' and 'ham' messages based on the TF-IDF features.\n",
    "\n",
    "- Evaluation: The model was evaluated on the test set using accuracy, precision, recall, and F1-score. These metrics provide a comprehensive view of the model's performance, highlighting its strengths and weaknesses in classifying SMS messages."
   ]
  },
  {
   "cell_type": "markdown",
   "id": "47ea9a12",
   "metadata": {},
   "source": [
    "### <u><b>2.3.2 Modern deep learning model</b></u><a class=\"anchor\" id=\"deep\"></a>"
   ]
  },
  {
   "cell_type": "code",
   "execution_count": 178,
   "id": "14747418",
   "metadata": {},
   "outputs": [
    {
     "name": "stdout",
     "output_type": "stream",
     "text": [
      "Epoch 1/20\n",
      "193/193 [==============================] - 131s 664ms/step - loss: 0.4358 - accuracy: 0.8007 - val_loss: 0.5786 - val_accuracy: 0.7060\n",
      "Epoch 2/20\n",
      "193/193 [==============================] - 126s 652ms/step - loss: 0.3771 - accuracy: 0.8306 - val_loss: 0.5749 - val_accuracy: 0.6600\n",
      "Epoch 3/20\n",
      "193/193 [==============================] - 116s 603ms/step - loss: 0.3750 - accuracy: 0.8337 - val_loss: 0.3719 - val_accuracy: 0.8031\n",
      "Epoch 4/20\n",
      "193/193 [==============================] - 132s 683ms/step - loss: 0.3586 - accuracy: 0.8450 - val_loss: 0.3940 - val_accuracy: 0.8763\n",
      "Epoch 5/20\n",
      "193/193 [==============================] - 132s 687ms/step - loss: 0.3541 - accuracy: 0.8507 - val_loss: 0.5341 - val_accuracy: 0.7876\n",
      "Epoch 6/20\n",
      "193/193 [==============================] - 139s 722ms/step - loss: 0.3414 - accuracy: 0.8574 - val_loss: 0.5432 - val_accuracy: 0.7720\n",
      "Epoch 7/20\n",
      "193/193 [==============================] - 124s 642ms/step - loss: 0.3341 - accuracy: 0.8580 - val_loss: 0.4898 - val_accuracy: 0.7921\n",
      "Epoch 8/20\n",
      "193/193 [==============================] - 125s 648ms/step - loss: 0.3126 - accuracy: 0.8750 - val_loss: 0.3471 - val_accuracy: 0.8582\n",
      "Epoch 9/20\n",
      "193/193 [==============================] - 136s 705ms/step - loss: 0.3346 - accuracy: 0.8642 - val_loss: 0.4079 - val_accuracy: 0.8640\n",
      "Epoch 10/20\n",
      "193/193 [==============================] - 152s 785ms/step - loss: 0.3127 - accuracy: 0.8716 - val_loss: 0.3902 - val_accuracy: 0.8355\n",
      "Epoch 11/20\n",
      "193/193 [==============================] - 129s 666ms/step - loss: 0.3062 - accuracy: 0.8792 - val_loss: 0.4090 - val_accuracy: 0.8251\n",
      "Epoch 12/20\n",
      "193/193 [==============================] - 134s 694ms/step - loss: 0.2864 - accuracy: 0.8842 - val_loss: 0.3625 - val_accuracy: 0.8400\n",
      "Epoch 13/20\n",
      "193/193 [==============================] - 122s 633ms/step - loss: 0.2656 - accuracy: 0.8954 - val_loss: 0.3947 - val_accuracy: 0.8251\n",
      "Epoch 14/20\n",
      "193/193 [==============================] - 132s 686ms/step - loss: 0.2540 - accuracy: 0.8956 - val_loss: 0.3502 - val_accuracy: 0.8646\n",
      "Epoch 15/20\n",
      "193/193 [==============================] - 114s 592ms/step - loss: 0.2374 - accuracy: 0.9054 - val_loss: 0.2921 - val_accuracy: 0.8633\n",
      "Epoch 16/20\n",
      "193/193 [==============================] - 115s 596ms/step - loss: 0.2103 - accuracy: 0.9177 - val_loss: 0.3392 - val_accuracy: 0.8575\n",
      "Epoch 17/20\n",
      "193/193 [==============================] - 115s 594ms/step - loss: 0.1940 - accuracy: 0.9224 - val_loss: 0.1926 - val_accuracy: 0.8996\n",
      "Epoch 18/20\n",
      "193/193 [==============================] - 117s 604ms/step - loss: 0.1889 - accuracy: 0.9226 - val_loss: 0.1776 - val_accuracy: 0.9216\n",
      "Epoch 19/20\n",
      "193/193 [==============================] - 116s 599ms/step - loss: 0.1689 - accuracy: 0.9310 - val_loss: 0.1618 - val_accuracy: 0.9190\n",
      "Epoch 20/20\n",
      "193/193 [==============================] - 113s 586ms/step - loss: 0.1497 - accuracy: 0.9383 - val_loss: 0.2198 - val_accuracy: 0.8996\n",
      "35/35 [==============================] - 5s 149ms/step - loss: 0.2448 - accuracy: 0.9220\n",
      "Word2Vec + LSTM Model Loss: 0.24479186534881592\n",
      "Word2Vec + LSTM Model Accuracy: 0.9219731092453003\n",
      "35/35 [==============================] - 6s 148ms/step\n",
      "Word2Vec + LSTM Confusion Matrix:\n",
      "[[921  44]\n",
      " [ 43 107]]\n",
      "Word2Vec + LSTM Classification Report:\n",
      "              precision    recall  f1-score   support\n",
      "\n",
      "         ham       0.96      0.95      0.95       965\n",
      "        spam       0.71      0.71      0.71       150\n",
      "\n",
      "    accuracy                           0.92      1115\n",
      "   macro avg       0.83      0.83      0.83      1115\n",
      "weighted avg       0.92      0.92      0.92      1115\n",
      "\n"
     ]
    },
    {
     "data": {
      "image/png": "[encoded data removed]",
      "text/plain": [
       "<Figure size 720x504 with 2 Axes>"
      ]
     },
     "metadata": {},
     "output_type": "display_data"
    }
   ],
   "source": [
    "# Train Word2Vec model for LSTM embeddings\n",
    "sentences = [text.split() for text in SMS_Data['message']]\n",
    "word2vec_model = Word2Vec(sentences, vector_size=100, window=5, min_count=1, workers=4)\n",
    "\n",
    "# Create an embedding matrix\n",
    "vocab_size = len(tokenizer.word_index) + 1\n",
    "embedding_dim = 100\n",
    "embedding_matrix = np.zeros((vocab_size, embedding_dim))\n",
    "\n",
    "for word, i in tokenizer.word_index.items():\n",
    "    if word in word2vec_model.wv:\n",
    "        embedding_matrix[i] = word2vec_model.wv[word]\n",
    "\n",
    "# Build the fine-tuned LSTM model\n",
    "lstm_model = Sequential()\n",
    "lstm_model.add(Embedding(input_dim=vocab_size, output_dim=embedding_dim, weights=[embedding_matrix], input_length=max_sequence_length, trainable=False))\n",
    "lstm_model.add(LSTM(units=256, dropout=0.3, recurrent_dropout=0.3, return_sequences=True))\n",
    "lstm_model.add(LSTM(units=128, dropout=0.3, recurrent_dropout=0.3, return_sequences=True))\n",
    "lstm_model.add(LSTM(units=64, dropout=0.3, recurrent_dropout=0.3))\n",
    "lstm_model.add(Dense(32, activation='relu'))\n",
    "lstm_model.add(Dropout(0.3))\n",
    "lstm_model.add(Dense(1, activation='sigmoid'))\n",
    "\n",
    "lstm_model.compile(optimizer='adam', loss='binary_crossentropy', metrics=['accuracy'])\n",
    "\n",
    "# Train the fine-tuned LSTM model\n",
    "history = lstm_model.fit(X_train_lstm_res, y_train_lstm_res, epochs=20, batch_size=32, validation_split=0.2)\n",
    "\n",
    "# Evaluate the fine-tuned LSTM model\n",
    "loss_lstm, accuracy_lstm = lstm_model.evaluate(X_test_lstm, y_test)\n",
    "print(f'Word2Vec + LSTM Model Loss: {loss_lstm}')\n",
    "print(f'Word2Vec + LSTM Model Accuracy: {accuracy_lstm}')\n",
    "\n",
    "# Make predictions and evaluate LSTM model\n",
    "y_pred_lstm = (lstm_model.predict(X_test_lstm) > 0.5).astype(\"int32\")\n",
    "conf_matrix_lstm = confusion_matrix(y_test, y_pred_lstm)\n",
    "class_report_lstm = classification_report(y_test, y_pred_lstm, target_names=label_encoder.classes_)\n",
    "\n",
    "print('Word2Vec + LSTM Confusion Matrix:')\n",
    "print(conf_matrix_lstm)\n",
    "print('Word2Vec + LSTM Classification Report:')\n",
    "print(class_report_lstm)\n",
    "\n",
    "# Plot the confusion matrix for LSTM\n",
    "plt.figure(figsize=(10, 7))\n",
    "sns.heatmap(conf_matrix_lstm, annot=True, fmt='d', cmap='Blues', xticklabels=label_encoder.classes_, yticklabels=label_encoder.classes_)\n",
    "plt.xlabel('Predicted Label')\n",
    "plt.ylabel('True Label')\n",
    "plt.title('Word2Vec + LSTM Confusion Matrix')\n",
    "plt.show()"
   ]
  },
  {
   "cell_type": "markdown",
   "id": "cc8aa83e",
   "metadata": {},
   "source": [
    "Word2Vec Embeddings:\n",
    "\n",
    "**Strengths:**\n",
    "\n",
    "- Trained a Word2Vec model on the SMS messages to generate word embeddings. This step captures semantic relationships between words, enabling the model to understand the context and meaning of terms.\n",
    "\n",
    "- Created an embedding matrix to map each word to its corresponding vector representation, which serves as input to the LSTM model. \n",
    "\n",
    "**Weaknesses:**\n",
    "\n",
    "- Requires significant computational resources and time for training.\n",
    "\n",
    "LSTM Model:\n",
    "\n",
    "Built an LSTM model with multiple layers to capture temporal dependencies and complex patterns in the text data. The model architecture included:\n",
    "- An embedding layer initialized with the Word2Vec embeddings, which is not trainable.\n",
    "- Three LSTM layers with dropout and recurrent dropout to prevent overfitting and capture sequential dependencies.\n",
    "- A dense layer with ReLU activation followed by a dropout layer.\n",
    "- A final dense layer with sigmoid activation for binary classification.The model was compiled with the Adam optimizer and binary cross-entropy loss function, optimized for binary classification tasks.\n",
    "\n",
    "**Strengths:**\n",
    "\n",
    "- Captures temporal dependencies and complex patterns in text data.\n",
    "- Handles sequential data effectively.\n",
    "\n",
    "**Weaknesses:**\n",
    "\n",
    "- Computationally intensive and requires more data for training.\n",
    "- Sensitive to hyperparameters and prone to overfitting on small datasets.\n",
    "\n",
    "Hyperparameter Tuning:\n",
    "\n",
    "Tuned hyperparameters such as the number of LSTM units, dropout rates, and number of epochs to optimize model performance. This tuning process involved experimenting with different configurations to achieve the best results.\n",
    "\n",
    "Model Training and Evaluation:\n",
    "\n",
    "- Training: The LSTM model was trained on the balanced training data for 20 epochs with a batch size of 32, using a validation split to monitor performance and prevent overfitting.\n",
    "\n",
    "- Evaluation: The model was evaluated on the test set using accuracy, precision, recall, and F1-score. These metrics provide a comprehensive view of the model's performance in classifying SMS messages."
   ]
  },
  {
   "cell_type": "markdown",
   "id": "dde506e4",
   "metadata": {},
   "source": [
    "### <U>3. Conclusions</U> <a class=\"anchor\" id=\"con\"></a>"
   ]
  },
  {
   "cell_type": "markdown",
   "id": "0eff8e76",
   "metadata": {},
   "source": [
    "### <U>3.1 Performance Analysis & Comparative Discussion</U> <a class=\"anchor\" id=\"Analysis\"></a>\n",
    "\n",
    "We implemented and compared the performance of two models for SMS spam detection: a traditional statistical model (TF-IDF + Naive Bayes) and a modern deep learning model (Word2Vec + LSTM).\n",
    "\n",
    "<b>Performance Visualisations and Metrics:</b>"
   ]
  },
  {
   "cell_type": "code",
   "execution_count": 183,
   "id": "9e6165b7",
   "metadata": {},
   "outputs": [
    {
     "data": {
      "image/png": "[encoded data removed]",
      "text/plain": [
       "<Figure size 1008x720 with 4 Axes>"
      ]
     },
     "metadata": {},
     "output_type": "display_data"
    },
    {
     "name": "stdout",
     "output_type": "stream",
     "text": [
      "TF-IDF + Naive Bayes Classification Report:\n",
      "              precision    recall  f1-score   support\n",
      "\n",
      "         ham       0.99      0.97      0.98       965\n",
      "        spam       0.85      0.93      0.89       150\n",
      "\n",
      "    accuracy                           0.97      1115\n",
      "   macro avg       0.92      0.95      0.93      1115\n",
      "weighted avg       0.97      0.97      0.97      1115\n",
      "\n",
      "\n",
      "Word2Vec + LSTM Classification Report:\n",
      "              precision    recall  f1-score   support\n",
      "\n",
      "         ham       0.96      0.95      0.95       965\n",
      "        spam       0.71      0.71      0.71       150\n",
      "\n",
      "    accuracy                           0.92      1115\n",
      "   macro avg       0.83      0.83      0.83      1115\n",
      "weighted avg       0.92      0.92      0.92      1115\n",
      "\n"
     ]
    }
   ],
   "source": [
    "# Data for visualization\n",
    "models = ['TF-IDF + Naive Bayes', 'Word2Vec + LSTM']\n",
    "accuracy_scores = [0.967713004484305, 0.9219731092453003]\n",
    "precision_scores = [0.85, 0.71]\n",
    "recall_scores = [0.93, 0.71]\n",
    "f1_scores = [0.89, 0.71]\n",
    "\n",
    "# Create a DataFrame for easier plotting\n",
    "data = {\n",
    "    'Model': models,\n",
    "    'Accuracy': accuracy_scores,\n",
    "    'Precision': precision_scores,\n",
    "    'Recall': recall_scores,\n",
    "    'F1-Score': f1_scores\n",
    "}\n",
    "\n",
    "df = pd.DataFrame(data)\n",
    "\n",
    "# Plot the metrics\n",
    "fig, axes = plt.subplots(2, 2, figsize=(14, 10))\n",
    "\n",
    "# Accuracy\n",
    "sns.barplot(x='Model', y='Accuracy', data=df, ax=axes[0, 0])\n",
    "axes[0, 0].set_title('Accuracy Comparison')\n",
    "axes[0, 0].set_ylim(0, 1)\n",
    "\n",
    "# Precision\n",
    "sns.barplot(x='Model', y='Precision', data=df, ax=axes[0, 1])\n",
    "axes[0, 1].set_title('Precision Comparison')\n",
    "axes[0, 1].set_ylim(0, 1)\n",
    "\n",
    "# Recall\n",
    "sns.barplot(x='Model', y='Recall', data=df, ax=axes[1, 0])\n",
    "axes[1, 0].set_title('Recall Comparison')\n",
    "axes[1, 0].set_ylim(0, 1)\n",
    "\n",
    "# F1-Score\n",
    "sns.barplot(x='Model', y='F1-Score', data=df, ax=axes[1, 1])\n",
    "axes[1, 1].set_title('F1-Score Comparison')\n",
    "axes[1, 1].set_ylim(0, 1)\n",
    "\n",
    "plt.tight_layout()\n",
    "plt.show()\n",
    "\n",
    "# Print classification reports\n",
    "print(\"TF-IDF + Naive Bayes Classification Report:\")\n",
    "print(classification_report(y_test, y_pred_tfidf, target_names=label_encoder.classes_))\n",
    "\n",
    "print(\"\\nWord2Vec + LSTM Classification Report:\")\n",
    "print(classification_report(y_test, y_pred_lstm, target_names=label_encoder.classes_))\n"
   ]
  },
  {
   "cell_type": "markdown",
   "id": "786c8ea5",
   "metadata": {},
   "source": [
    "<b>Comparative Analysis:</b>\n",
    "\n",
    "Accuracy:\n",
    "\n",
    "Accuracy: The TF-IDF + Naive Bayes model achieved higher accuracy (96.77%) compared to the Word2Vec + LSTM model (92.20%). Accuracy measures overall correctness, with higher accuracy indicating better performance.\n",
    "\n",
    "Precision and Recall: The TF-IDF + Naive Bayes model showed superior precision and recall for both ham and spam. It had a precision of 0.99 for ham and 0.85 for spam, with recall values of 0.97 for ham and 0.93 for spam. In contrast, the Word2Vec + LSTM model had precision of 0.96 for ham and 0.71 for spam, and recall values of 0.95 for ham and 0.71 for spam. Higher precision and recall indicate better identification of ham and spam messages.\n",
    "\n",
    "F1-Score: The F1-Score, which balances precision and recall, was higher for the TF-IDF + Naive Bayes model (0.98 for ham and 0.89 for spam) compared to the Word2Vec + LSTM model (0.95 for ham and 0.71 for spam). This further confirms the superior performance of the Naive Bayes model in SMS spam detection.\n",
    "\n",
    "<b>Discussion:</b>\n",
    "\n",
    "The TF-IDF + Naive Bayes model outperformed the Word2Vec + LSTM model in all metrics. This could be due to:\n",
    "\n",
    "- Dataset Characteristics: The SMS Spam Collection dataset is small and imbalanced. Traditional models like Naive Bayes perform well on smaller datasets with imbalanced classes as they handle sparse data effectively.\n",
    "\n",
    "- Model Complexity: Deep learning models, including LSTMs, generally require larger datasets to perform well. The Word2Vec + LSTM model might not have fully leveraged its capabilities due to the limited dataset size.\n",
    "\n",
    "- Hyperparameter Tuning: The deep learning model might benefit from further hyperparameter tuning, including the number of layers, units in each layer, dropout rates, and epochs. Techniques like transfer learning or pre-trained embeddings could enhance its performance.\n",
    "\n",
    "<b>Advantages and Disadvantages:</b>\n",
    "\n",
    "TF-IDF + Naive Bayes:\n",
    "\n",
    "- Advantages: Simplicity, speed, effective on small datasets, and interpretable results.\n",
    "- Disadvantages: Limited ability to capture complex patterns and relationships in the data.\n",
    "\n",
    "Word2Vec + LSTM:\n",
    "\n",
    "- Advantages: Ability to capture complex patterns and temporal dependencies, potential for higher performance on larger datasets.\n",
    "\n",
    "- Disadvantages: Requires larger datasets, computationally intensive, longer training times, and hyperparameter sensitivity.\n",
    "\n",
    "<b>Scenarios for Preference:</b>\n",
    "\n",
    "- TF-IDF + Naive Bayes: Suitable for small to moderately-sized datasets where simplicity, speed, and interpretability are crucial. Effective in scenarios with less complex data and where quick, reliable results are needed.\n",
    "\n",
    "- Word2Vec + LSTM: Preferred for larger datasets with complex patterns and temporal dependencies. Ideal when dataset size justifies the computational cost and capturing nuanced relationships is important.\n",
    "\n",
    "<b>Observed Performance Disparities:</b>\n",
    "\n",
    "The disparities between the models highlight the importance of choosing the right model based on dataset characteristics and the problem at hand. While the deep learning model has potential for superior performance, it requires adequate data and computational resources to realize its advantages. In contrast, traditional models like Naive Bayes offer robust performance with less complexity and resource requirements, making them a viable choice for certain applications."
   ]
  },
  {
   "cell_type": "markdown",
   "id": "1422067d",
   "metadata": {},
   "source": [
    "### <U>3.2 Project Summary and Reflections</U> <a class=\"anchor\" id=\"Summary\"></a>\n",
    "\n",
    "This project compared the performance of a traditional statistical model and a modern deep learning model for SMS spam detection. The findings show that the traditional model outperformed the deep learning model across all evaluation metrics.\n",
    "\n",
    "<b>Learning Experience:</b>\n",
    "\n",
    "- Importance of data preprocessing and balancing for reliable model performance.\n",
    "\n",
    "- Strengths and limitations of different models in text classification tasks.\n",
    "\n",
    "- Need for careful hyperparameter tuning and model selection based on dataset characteristics.\n",
    "\n",
    "<b>Practicality of Each Model Type:</b>\n",
    "\n",
    "- TF-IDF + Naive Bayes: Practical for small to moderately sized datasets with limited computational resources. Provides quick and interpretable results, making it suitable for real-world applications where simplicity and speed are crucial.\n",
    "\n",
    "- Word2Vec + LSTM: Suitable for large, complex datasets where computational resources and training time are justified. Captures intricate patterns in data, making it ideal for applications requiring deep insights.\n",
    "    \n",
    "<b>Potential Applications in Real-World Scenarios:</b>\n",
    "\n",
    "- TF-IDF + Naive Bayes: Email spam detection, sentiment analysis, document classification, and any text classification task with moderate complexity and data size.\n",
    "\n",
    "- Word2Vec + LSTM: Advanced NLP applications such as language translation, speech recognition, and large-scale sentiment analysis where capturing complex patterns and dependencies is crucial.\n",
    "\n",
    "<b>Contributions to the Problem Area:</b>\n",
    "\n",
    "This study provides valuable insights into the performance of traditional and modern models for SMS spam detection. Detailed performance benchmarks can guide researchers and practitioners in selecting the appropriate model based on their specific needs and dataset characteristics.\n",
    "\n",
    "<b>Transferability to Other Domain-Specific Areas:</b>\n",
    "\n",
    "The methodologies and insights from this project are transferable to other text classification tasks across various domains, including email filtering, social media monitoring, and customer feedback analysis. By understanding the strengths and weaknesses of different models, practitioners can make informed decisions to achieve optimal performance in their applications.\n",
    "\n",
    "<b>Suggestions for Improvements and Future Research Directions:</b>\n",
    "\n",
    "- Data Augmentation: Explore data augmentation techniques to expand the dataset and enhance model performance.\n",
    "\n",
    "- Advanced Architectures: Investigate more advanced deep learning architectures, such as transformers, which have shown state-of-the-art performance in NLP tasks.\n",
    "\n",
    "- Transfer Learning: Leverage pre-trained models and transfer learning to improve performance on limited datasets.\n",
    "\n",
    "- Hyperparameter Optimization: Conduct extensive hyperparameter tuning and optimization to find the best configuration for the deep learning model.\n",
    "\n",
    "- Ensemble Methods: Combine multiple models to create ensemble methods that leverage the strengths of different approaches for improved performance.\n",
    "\n",
    "By incorporating these suggestions and continuing to explore the evolving landscape of NLP and machine learning, future research can further enhance the effectiveness and applicability of spam detection systems."
   ]
  },
  {
   "cell_type": "markdown",
   "id": "57a45ee8",
   "metadata": {},
   "source": [
    "### <U>4. References</U><a class=\"anchor\" id=\"refer\"></a>\n",
    "\n",
    "Almeida, T.A., Hidalgo, J.M.G., and Yamakami, A., 2011. Contributions to the study of SMS spam filtering: new collection and results. Proceedings of the 11th ACM symposium on Document engineering, pp.259-262.\n",
    "\n",
    "Gómez Hidalgo, J.M., Bringas, G.C., Sánz, E.P., and García, F.C., 2006. Content based SMS spam filtering. Proceedings of the 2006 ACM symposium on Document engineering, pp.107-114.\n",
    "\n",
    "Kim, Y., 2014. Convolutional Neural Networks for Sentence Classification. arXiv preprint arXiv:1408.5882.\n",
    "\n",
    "Zhang, X., Zhao, J., and LeCun, Y., 2015. Character-level Convolutional Networks for Text Classification. Advances in neural information processing systems, 28."
   ]
  }
 ],
 "metadata": {
  "kernelspec": {
   "display_name": "Python 3 (ipykernel)",
   "language": "python",
   "name": "python3"
  },
  "language_info": {
   "codemirror_mode": {
    "name": "ipython",
    "version": 3
   },
   "file_extension": ".py",
   "mimetype": "text/x-python",
   "name": "python",
   "nbconvert_exporter": "python",
   "pygments_lexer": "ipython3",
   "version": "3.9.6"
  }
 },
 "nbformat": 4,
 "nbformat_minor": 5
}
